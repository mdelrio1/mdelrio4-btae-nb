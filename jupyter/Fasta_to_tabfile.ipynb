{
 "cells": [
  {
   "cell_type": "code",
   "execution_count": 1,
   "metadata": {
    "collapsed": true
   },
   "outputs": [],
   "source": [
    "## Install biopython\n",
    "# in the terminal run the following command:\n",
    "# conda install -c https://conda.anaconda.org/anaconda biopython\n",
    "# you do it only once"
   ]
  },
  {
   "cell_type": "code",
   "execution_count": 2,
   "metadata": {
    "collapsed": true
   },
   "outputs": [],
   "source": [
    "# importing some features of Biopython\n",
    "from Bio import SeqIO"
   ]
  },
  {
   "cell_type": "code",
   "execution_count": 3,
   "metadata": {
    "collapsed": false
   },
   "outputs": [
    {
     "name": "stdout",
     "output_type": "stream",
     "text": [
      ">Geo_Pool_F_GGCTAC_L006_R1_001_val_1_(paired)_contig_1\n",
      "TGAGTTTGAATCCCCGCCTGGCCAGTCTCCGTGATTATTGACATACAACATTGCCTTTTG\n",
      "TTGTCATTAGTCTCTCAACACTGATTCAAATGGGAAAGTTATCAATTACTTGTAGGGATG\n",
      "TGTGCTGGAGTACTTGTTAACCATTCAGGGTCCCAGGAAGTAGTGGTTAAGTTAACTGCA\n",
      "ATCTCATTAAAATTATATCGACTTTAGGCTTCCATACACTACGCACAGTAGATCTGATGG\n",
      "TGTTGCATAGAACGTCACATCAGATTGCCCTTTCTGCCAGCCCATGTTTAATGTAAATGA\n",
      "TTTTCAGAAATTACAGAAGTCAGGGATGATACAGGGACTTTTTTTATTTATACATTAATG\n",
      "ACACAAGATCAGTCTGAGGTGACCTTTAATGCAATGCTGCCAGCTCTACTGTGTGTAGGG\n",
      "TATGGAAGTTGATCTGATTTTAATAAGATCGTCTGTAAGTCTTCGATGACATAAAAGTGA\n",
      "TGCTAAATATTCAAACAANNAAAAATAATCGGGCAAAATAATATTTGTTTACTTACTTGT\n"
     ]
    }
   ],
   "source": [
    "# seeing a fasta file\n",
    "!head ../../big-data/blast/db/Geo_Female.fa"
   ]
  },
  {
   "cell_type": "code",
   "execution_count": 4,
   "metadata": {
    "collapsed": false
   },
   "outputs": [
    {
     "data": {
      "text/plain": [
       "'../../big-data/blast/db/Geo_Female.fa'"
      ]
     },
     "execution_count": 4,
     "metadata": {},
     "output_type": "execute_result"
    }
   ],
   "source": [
    "# defining the datafile \n",
    "datafile=\"../../big-data/blast/db/Geo_Female.fa\"\n",
    "datafile"
   ]
  },
  {
   "cell_type": "code",
   "execution_count": 6,
   "metadata": {
    "collapsed": false
   },
   "outputs": [],
   "source": [
    "# if you want to see it on the screen\n",
    "# for seq_record in SeqIO.parse(datafile, \"fasta\"):\n",
    "#    print(seq_record.id+  \"\\t\"+seq_record.seq +\"\\t\"+str(len(seq_record)))"
   ]
  },
  {
   "cell_type": "code",
   "execution_count": 7,
   "metadata": {
    "collapsed": true
   },
   "outputs": [],
   "source": [
    "archivo_salida=open(\"../../big-data/blast/out/Geo_Female_tab.txt\",\"w\")"
   ]
  },
  {
   "cell_type": "code",
   "execution_count": 8,
   "metadata": {
    "collapsed": false
   },
   "outputs": [],
   "source": [
    "for seq_record in SeqIO.parse(datafile, \"fasta\"):\n",
    "    salida=seq_record.id+  \"\\t\"+seq_record.seq +\"\\t\"+str(len(seq_record))\n",
    "    archivo_salida.writelines(salida+ \"\\n\")"
   ]
  },
  {
   "cell_type": "code",
   "execution_count": 9,
   "metadata": {
    "collapsed": true
   },
   "outputs": [],
   "source": [
    "archivo_salida.close()"
   ]
  },
  {
   "cell_type": "code",
   "execution_count": null,
   "metadata": {
    "collapsed": true
   },
   "outputs": [],
   "source": [
    "# "
   ]
  }
 ],
 "metadata": {
  "kernelspec": {
   "display_name": "Python 2",
   "language": "python",
   "name": "python2"
  },
  "language_info": {
   "codemirror_mode": {
    "name": "ipython",
    "version": 2
   },
   "file_extension": ".py",
   "mimetype": "text/x-python",
   "name": "python",
   "nbconvert_exporter": "python",
   "pygments_lexer": "ipython2",
   "version": "2.7.10"
  }
 },
 "nbformat": 4,
 "nbformat_minor": 0
}
