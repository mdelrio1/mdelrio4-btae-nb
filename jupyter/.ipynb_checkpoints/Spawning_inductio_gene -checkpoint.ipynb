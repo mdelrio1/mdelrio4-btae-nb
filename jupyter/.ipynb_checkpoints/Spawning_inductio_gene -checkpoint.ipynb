{
 "cells": [
  {
   "cell_type": "markdown",
   "metadata": {},
   "source": [
    "#Spawning induction gene\n"
   ]
  },
  {
   "cell_type": "markdown",
   "metadata": {},
   "source": [
    "ACCESSION   JN606061\n",
    "York,P.S., Cummins,S.F., Degnan,S.M., Woodcroft,B.J. and Degnan,B.M. (Unpublished) Neuropeptide expression levels correlate with ovulation and spawning in Haliotis asinina. http://www.ncbi.nlm.nih.gov/nuccore/393713349"
   ]
  },
  {
   "cell_type": "code",
   "execution_count": 3,
   "metadata": {
    "collapsed": false
   },
   "outputs": [
    {
     "name": "stdout",
     "output_type": "stream",
     "text": [
      "Hasinina_apgw_amide_prepropeptide.fasta\n"
     ]
    }
   ],
   "source": [
    "!ls ../data/"
   ]
  },
  {
   "cell_type": "code",
   "execution_count": 4,
   "metadata": {
    "collapsed": false,
    "scrolled": true
   },
   "outputs": [
    {
     "name": "stdout",
     "output_type": "stream",
     "text": [
      ">gi|393713349|gb|JN606061.1| Haliotis asinina APGWamide prepropeptide mRNA, complete cds\n",
      "GATCCCTCCCTCTCCAGTGGGGCTTTTTCTTTAAAACCACGATGTCTTCTTTCATAAATTCGCTCACACT\n",
      "GGGAGTTGTTGTGGTTTTAAGTGTCCTCAGTTGTAGTTTGGGAGAAGATCAAGTTGCCAGTGTAACGGGT\n",
      "GACAAAGAAAAATCGGACTTTTCTCAAAGGACACTTGACTCTGTACATGTTTTGAAAAAAAGGGCCCCAG\n",
      "GCTGGGGCAAGCGGTCGCTGGATGAGGATGTAGACAGTGACGACGATATGTCTTATGACAGTGAGTCCCC\n",
      "AGAGGACATTTTATCAGGTGCTGATCTTTCCAAACGCGCGCCCGGTTGGGGCAAGCGTACCTTAGATATT\n",
      "CTAGAAGATTACACCAAACGAGCACCCGGCTGGGGTAAGAGGGACTCTCTAGATGTTAAACGTGCACCTG\n",
      "GATGGGGAAAACGCGATATCGATATGGACAAACGTGCACCTGGATGGGGCAAACGCGCACCTGGGTGGGG\n",
      "CAAACGTGCACCTGGCTGGGGAAAACGGGCACCTGGCTGGGGAAAGCGTGCACCTGGTTGGGGCAAAAGA\n",
      "GCACCTGGATGGGGCAAACGCTCTGACACATCATGTGCTGGAATCGACGAGGAGGTTGACTATTACATAT\n"
     ]
    }
   ],
   "source": [
    "!head ../data/Hasinina_apgw_amide_prepropeptide.fasta"
   ]
  },
  {
   "cell_type": "code",
   "execution_count": null,
   "metadata": {
    "collapsed": true
   },
   "outputs": [],
   "source": [
    "!blastn \\\n",
    "-outfmt 6 \\\n",
    "-max_target_seqs 1 \\\n",
    "-evalue 1E-20 \\\n",
    "-max_hsps 1 \\\n",
    "-query ../../big-data/blast/query/Geo_Male.fa \\\n",
    "-db ../../big-data/blast/db/Geo_Female \\\n",
    "-out ../../big-data/blast/out/Geomale_to_female_blas_fmt6.out\n"
   ]
  }
 ],
 "metadata": {
  "kernelspec": {
   "display_name": "Python 2",
   "language": "python",
   "name": "python2"
  },
  "language_info": {
   "codemirror_mode": {
    "name": "ipython",
    "version": 2
   },
   "file_extension": ".py",
   "mimetype": "text/x-python",
   "name": "python",
   "nbconvert_exporter": "python",
   "pygments_lexer": "ipython2",
   "version": "2.7.10"
  }
 },
 "nbformat": 4,
 "nbformat_minor": 0
}
