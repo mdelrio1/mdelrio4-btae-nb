{
 "cells": [
  {
   "cell_type": "markdown",
   "metadata": {},
   "source": [
    "# This is my favorite notebook"
   ]
  },
  {
   "cell_type": "code",
   "execution_count": 1,
   "metadata": {
    "collapsed": false
   },
   "outputs": [
    {
     "data": {
      "text/plain": [
       "'/Users/migueldelrio/Desktop/mdelrio1github/mdelrio4-btae-nb/jupyter'"
      ]
     },
     "execution_count": 1,
     "metadata": {},
     "output_type": "execute_result"
    }
   ],
   "source": [
    "pwd"
   ]
  },
  {
   "cell_type": "code",
   "execution_count": 4,
   "metadata": {
    "collapsed": false
   },
   "outputs": [
    {
     "name": "stdout",
     "output_type": "stream",
     "text": [
      "01-myfile.ipynb                PruebaExpression.ipynb\r\n",
      "03-blasting-fasta.ipynb        Sequence_from_Fastafile.ipynb\r\n",
      "Fasta_to_tab.ipynb             Spawning_inductio_gene .ipynb\r\n",
      "Fasta_to_tabfile.ipynb         insilico_epigenetics.ipynb\r\n",
      "Geoduck.ipynb                  localblast.ipynb\r\n",
      "Make-blastdb.ipynb             seq.txt\r\n",
      "PaginasInteres.ipynb           sr-test.ipynb\r\n"
     ]
    }
   ],
   "source": [
    "ls"
   ]
  },
  {
   "cell_type": "code",
   "execution_count": 5,
   "metadata": {
    "collapsed": false
   },
   "outputs": [],
   "source": [
    "# !cd c:/Users/curso06/Desktop/mdelrio2-btae-nb"
   ]
  },
  {
   "cell_type": "code",
   "execution_count": 6,
   "metadata": {
    "collapsed": false
   },
   "outputs": [
    {
     "data": {
      "text/plain": [
       "'/Users/migueldelrio/Desktop/mdelrio1github/mdelrio4-btae-nb/jupyter'"
      ]
     },
     "execution_count": 6,
     "metadata": {},
     "output_type": "execute_result"
    }
   ],
   "source": [
    "# pwd"
   ]
  },
  {
   "cell_type": "code",
   "execution_count": 5,
   "metadata": {
    "collapsed": false
   },
   "outputs": [
    {
     "name": "stdout",
     "output_type": "stream",
     "text": [
      "\u001b[34mIgv_sessions\u001b[m\u001b[m \u001b[34manalyses\u001b[m\u001b[m     \u001b[34mimg\u001b[m\u001b[m          \u001b[34mnotes\u001b[m\u001b[m\r\n",
      "README.md    \u001b[34mdata\u001b[m\u001b[m         \u001b[34mjupyter\u001b[m\u001b[m\r\n"
     ]
    }
   ],
   "source": [
    "!ls ../"
   ]
  },
  {
   "cell_type": "code",
   "execution_count": 7,
   "metadata": {
    "collapsed": false
   },
   "outputs": [
    {
     "name": "stdout",
     "output_type": "stream",
     "text": [
      "01-myfile.ipynb               PruebaExpression.ipynb\r\n",
      "03-blasting-fasta.ipynb       Sequence_from_Fastafile.ipynb\r\n",
      "Fasta_to_tab.ipynb            Spawning_inductio_gene .ipynb\r\n",
      "Fasta_to_tabfile.ipynb        insilico_epigenetics.ipynb\r\n",
      "Geoduck.ipynb                 localblast.ipynb\r\n",
      "Make-blastdb.ipynb            seq.txt\r\n",
      "PaginasInteres.ipynb          sr-test.ipynb\r\n"
     ]
    }
   ],
   "source": [
    "!ls"
   ]
  },
  {
   "cell_type": "code",
   "execution_count": 8,
   "metadata": {
    "collapsed": false
   },
   "outputs": [
    {
     "name": "stdout",
     "output_type": "stream",
     "text": [
      "{\r\n",
      " \"cells\": [\r\n",
      "  {\r\n",
      "   \"cell_type\": \"markdown\",\r\n",
      "   \"metadata\": {},\r\n",
      "   \"source\": [\r\n",
      "    \"# This is my favorite notebook\"\r\n",
      "   ]\r\n",
      "  },\r\n",
      "  {\r\n",
      "   \"cell_type\": \"code\",\r\n",
      "   \"execution_count\": 1,\r\n",
      "   \"metadata\": {\r\n",
      "    \"collapsed\": false\r\n",
      "   },\r\n",
      "   \"outputs\": [\r\n",
      "    {\r\n",
      "     \"data\": {\r\n",
      "      \"text/plain\": [\r\n",
      "       \"'/Users/migueldelrio/Desktop/mdelrio1github/mdelrio4-btae-nb/jupyter'\"\r\n",
      "      ]\r\n",
      "     },\r\n",
      "     \"execution_count\": 1,\r\n",
      "     \"metadata\": {},\r\n",
      "     \"output_type\": \"execute_result\"\r\n",
      "    }\r\n",
      "   ],\r\n",
      "   \"source\": [\r\n",
      "    \"pwd\"\r\n",
      "   ]\r\n",
      "  },\r\n",
      "  {\r\n",
      "   \"cell_type\": \"code\",\r\n",
      "   \"execution_count\": 4,\r\n",
      "   \"metadata\": {\r\n",
      "    \"collapsed\": false\r\n",
      "   },\r\n",
      "   \"outputs\": [\r\n",
      "    {\r\n",
      "     \"name\": \"stdout\",\r\n",
      "     \"output_type\": \"stream\",\r\n",
      "     \"text\": [\r\n",
      "      \"01-myfile.ipynb                PruebaExpression.ipynb\\r\\n\",\r\n",
      "      \"03-blasting-fasta.ipynb        Sequence_from_Fastafile.ipynb\\r\\n\",\r\n",
      "      \"Fasta_to_tab.ipynb             Spawning_inductio_gene .ipynb\\r\\n\",\r\n",
      "      \"Fasta_to_tabfile.ipynb         insilico_epigenetics.ipynb\\r\\n\",\r\n",
      "      \"Geoduck.ipynb                  localblast.ipynb\\r\\n\",\r\n",
      "      \"Make-blastdb.ipynb             seq.txt\\r\\n\",\r\n",
      "      \"PaginasInteres.ipynb           sr-test.ipynb\\r\\n\"\r\n",
      "     ]\r\n",
      "    }\r\n",
      "   ],\r\n",
      "   \"source\": [\r\n",
      "    \"ls\"\r\n",
      "   ]\r\n",
      "  },\r\n",
      "  {\r\n",
      "   \"cell_type\": \"code\",\r\n",
      "   \"execution_count\": 5,\r\n",
      "   \"metadata\": {\r\n",
      "    \"collapsed\": false\r\n",
      "   },\r\n",
      "   \"outputs\": [],\r\n",
      "   \"source\": [\r\n",
      "    \"# !cd c:/Users/curso06/Desktop/mdelrio2-btae-nb\"\r\n",
      "   ]\r\n",
      "  },\r\n",
      "  {\r\n",
      "   \"cell_type\": \"code\",\r\n",
      "   \"execution_count\": 6,\r\n",
      "   \"metadata\": {\r\n",
      "    \"collapsed\": false\r\n",
      "   },\r\n",
      "   \"outputs\": [\r\n",
      "    {\r\n",
      "     \"data\": {\r\n",
      "      \"text/plain\": [\r\n",
      "       \"'/Users/migueldelrio/Desktop/mdelrio1github/mdelrio4-btae-nb/jupyter'\"\r\n",
      "      ]\r\n",
      "     },\r\n",
      "     \"execution_count\": 6,\r\n",
      "     \"metadata\": {},\r\n",
      "     \"output_type\": \"execute_result\"\r\n",
      "    }\r\n",
      "   ],\r\n",
      "   \"source\": [\r\n",
      "    \"# pwd\"\r\n",
      "   ]\r\n",
      "  },\r\n",
      "  {\r\n",
      "   \"cell_type\": \"code\",\r\n",
      "   \"execution_count\": 5,\r\n",
      "   \"metadata\": {\r\n",
      "    \"collapsed\": false\r\n",
      "   },\r\n",
      "   \"outputs\": [\r\n",
      "    {\r\n",
      "     \"name\": \"stdout\",\r\n",
      "     \"output_type\": \"stream\",\r\n",
      "     \"text\": [\r\n",
      "      \"\\u001b[34mIgv_sessions\\u001b[m\\u001b[m \\u001b[34manalyses\\u001b[m\\u001b[m     \\u001b[34mimg\\u001b[m\\u001b[m          \\u001b[34mnotes\\u001b[m\\u001b[m\\r\\n\",\r\n",
      "      \"README.md    \\u001b[34mdata\\u001b[m\\u001b[m         \\u001b[34mjupyter\\u001b[m\\u001b[m\\r\\n\"\r\n",
      "     ]\r\n",
      "    }\r\n",
      "   ],\r\n",
      "   \"source\": [\r\n",
      "    \"!ls ../\"\r\n",
      "   ]\r\n",
      "  },\r\n",
      "  {\r\n",
      "   \"cell_type\": \"code\",\r\n",
      "   \"execution_count\": 7,\r\n",
      "   \"metadata\": {\r\n",
      "    \"collapsed\": false\r\n",
      "   },\r\n",
      "   \"outputs\": [\r\n",
      "    {\r\n",
      "     \"name\": \"stdout\",\r\n",
      "     \"output_type\": \"stream\",\r\n",
      "     \"text\": [\r\n",
      "      \"01-myfile.ipynb               PruebaExpression.ipynb\\r\\n\",\r\n",
      "      \"03-blasting-fasta.ipynb       Sequence_from_Fastafile.ipynb\\r\\n\",\r\n",
      "      \"Fasta_to_tab.ipynb            Spawning_inductio_gene .ipynb\\r\\n\",\r\n",
      "      \"Fasta_to_tabfile.ipynb        insilico_epigenetics.ipynb\\r\\n\",\r\n",
      "      \"Geoduck.ipynb                 localblast.ipynb\\r\\n\",\r\n",
      "      \"Make-blastdb.ipynb            seq.txt\\r\\n\",\r\n",
      "      \"PaginasInteres.ipynb          sr-test.ipynb\\r\\n\"\r\n",
      "     ]\r",
      "\r\n",
      "    }\r\n",
      "   ],\r\n",
      "   \"source\": [\r\n",
      "    \"!ls\"\r\n",
      "   ]\r\n",
      "  },\r\n",
      "  {\r\n",
      "   \"cell_type\": \"code\",\r\n",
      "   \"execution_count\": 10,\r\n",
      "   \"metadata\": {\r\n",
      "    \"collapsed\": false\r\n",
      "   },\r\n",
      "   \"outputs\": [\r\n",
      "    {\r\n",
      "     \"name\": \"stdout\",\r\n",
      "     \"output_type\": \"stream\",\r\n",
      "     \"text\": [\r\n",
      "      \"{\\n\",\r\n",
      "      \" \\\"cells\\\": [\\n\",\r\n",
      "      \"  {\\n\",\r\n",
      "      \"   \\\"cell_type\\\": \\\"markdown\\\",\\n\",\r\n",
      "      \"   \\\"metadata\\\": {},\\n\",\r\n",
      "      \"   \\\"source\\\": [\\n\",\r\n",
      "      \"    \\\"# This is my favorite notebook\\\"\\n\",\r\n",
      "      \"   ]\\n\",\r\n",
      "      \"  },\\n\",\r\n",
      "      \"  {\\n\",\r\n",
      "      \"   \\\"cell_type\\\": \\\"code\\\",\\n\",\r\n",
      "      \"   \\\"execution_count\\\": 6,\\n\",\r\n",
      "      \"   \\\"metadata\\\": {\\n\",\r\n",
      "      \"    \\\"collapsed\\\": false\\n\",\r\n",
      "      \"   },\\n\",\r\n",
      "      \"   \\\"outputs\\\": [\\n\",\r\n",
      "      \"    {\\n\",\r\n",
      "      \"     \\\"name\\\": \\\"stdout\\\",\\n\",\r\n",
      "      \"     \\\"output_type\\\": \\\"stream\\\",\\n\",\r\n",
      "      \"     \\\"text\\\": [\\n\",\r\n",
      "      \"      \\\"/c/Users/curso06/Desktop/mdelrio2-btae-nb/jupyter\\\\n\\\"\\n\",\r\n",
      "      \"     ]\\n\",\r\n",
      "      \"    }\\n\",\r\n",
      "      \"   ],\\n\",\r\n",
      "      \"   \\\"source\\\": [\\n\",\r\n",
      "      \"    \\\"!pwd\\\"\\n\",\r\n",
      "      \"   ]\\n\",\r\n",
      "      \"  },\\n\",\r\n",
      "      \"  {\\n\",\r\n",
      "      \"   \\\"cell_type\\\": \\\"code\\\",\\n\",\r\n",
      "      \"   \\\"execution_count\\\": 2,\\n\",\r\n",
      "      \"   \\\"metadata\\\": {\\n\",\r\n",
      "      \"    \\\"collapsed\\\": false\\n\",\r\n",
      "      \"   },\\n\",\r\n",
      "      \"   \\\"outputs\\\": [\\n\",\r\n",
      "      \"    {\\n\",\r\n",
      "      \"     \\\"name\\\": \\\"stdout\\\",\\n\",\r\n",
      "      \"     \\\"output_type\\\": \\\"stream\\\",\\n\",\r\n",
      "      \"     \\\"text\\\": [\\n\",\r\n",
      "      \"      \\\"01-myfile.ipynb\\\\n\\\"\\n\",\r\n",
      "      \"     ]\\n\",\r\n",
      "      \"    }\\n\",\r\n",
      "      \"   ],\\n\",\r\n",
      "      \"   \\\"source\\\": [\\n\",\r\n",
      "      \"    \\\"!ls\\\"\\n\",\r\n",
      "      \"   ]\\n\",\r\n",
      "      \"  },\\n\",\r\n",
      "      \"  {\\n\",\r\n",
      "      \"   \\\"cell_type\\\": \\\"code\\\",\\n\",\r\n",
      "      \"   \\\"execution_count\\\": 5,\\n\",\r\n",
      "      \"   \\\"metadata\\\": {\\n\",\r\n",
      "      \"    \\\"collapsed\\\": false\\n\",\r\n",
      "      \"   },\\n\",\r\n",
      "      \"   \\\"outputs\\\": [],\\n\",\r\n",
      "      \"   \\\"source\\\": [\\n\",\r\n",
      "      \"    \\\"!cd c:/Users/curso06/Desktop/mdelrio2-btae-nb\\\"\\n\",\r\n",
      "      \"   ]\\n\",\r\n",
      "      \"  },\\n\",\r\n",
      "      \"  {\\n\",\r\n",
      "      \"   \\\"cell_type\\\": \\\"code\\\",\\n\",\r\n",
      "      \"   \\\"execution_count\\\": 7,\\n\",\r\n",
      "      \"   \\\"metadata\\\": {\\n\",\r\n",
      "      \"    \\\"collapsed\\\": false\\n\",\r\n",
      "      \"   },\\n\",\r\n",
      "      \"   \\\"outputs\\\": [\\n\",\r\n",
      "      \"    {\\n\",\r\n",
      "      \"     \\\"name\\\": \\\"stdout\\\",\\n\",\r\n",
      "      \"     \\\"output_type\\\": \\\"stream\\\",\\n\",\r\n",
      "      \"     \\\"text\\\": [\\n\",\r\n",
      "      \"      \\\"/c/Users/curso06/Desktop/mdelrio2-btae-nb/jupyter\\\\n\\\"\\n\",\r\n",
      "      \"     ]\\n\",\r\n",
      "      \"    }\\n\",\r\n",
      "      \"   ],\\n\",\r\n",
      "      \"   \\\"source\\\": [\\n\",\r\n",
      "      \"    \\\"!pwd\\\"\\n\",\r\n",
      "      \"   ]\\n\",\r\n",
      "      \"  },\\n\",\r\n",
      "      \"  {\\n\",\r\n",
      "      \"   \\\"cell_type\\\": \\\"code\\\",\\n\",\r\n",
      "      \"   \\\"execution_count\\\": 8,\\n\",\r\n",
      "      \"   \\\"metadata\\\": {\\n\",\r\n",
      "      \"    \\\"collapsed\\\": false\\n\",\r\n",
      "      \"   },\\n\",\r\n",
      "      \"   \\\"outputs\\\": [\\n\",\r\n",
      "      \"    {\\n\",\r\n",
      "      \"     \\\"name\\\": \\\"stdout\\\",\\n\",\r\n",
      "      \"     \\\"output_type\\\": \\\"stream\\\",\\n\",\r\n",
      "      \"     \\\"text\\\": [\\n\",\r\n",
      "      \"      \\\"analyses\\\\n\\\",\\n\",\r\n",
      "      \"      \\\"data\\\\n\\\",\\n\",\r\n",
      "      \"      \\\"img\\\\n\\\",\\n\",\r\n",
      "      \"      \\\"jupyter\\\\n\\\",\\n\",\r\n",
      "      \"      \\\"notes\\\\n\\\",\\n\",\r\n",
      "      \"      \\\"README.md\\\\n\\\"\\n\",\r\n",
      "      \"     ]\\n\",\r\n",
      "      \"    }\\n\",\r\n",
      "      \"   ],\\n\",\r\n",
      "      \"   \\\"source\\\": [\\n\",\r\n",
      "      \"    \\\"!ls ../\\\"\\n\",\r\n",
      "      \"   ]\\n\",\r\n",
      "      \"  },\\n\",\r\n",
      "      \"  {\\n\",\r\n",
      "      \"   \\\"cell_type\\\": \\\"code\\\",\\n\",\r\n",
      "      \"   \\\"execution_count\\\": null,\\n\",\r\n",
      "      \"   \\\"metadata\\\": {\\n\",\r\n",
      "      \"    \\\"collapsed\\\": true\\n\",\r\n",
      "      \"   },\\n\",\r\n",
      "      \"   \\\"outputs\\\": [],\\n\",\r\n",
      "      \"   \\\"source\\\": []\\n\",\r\n",
      "      \"  }\\n\",\r\n",
      "      \" ],\\n\",\r\n",
      "      \" \\\"metadata\\\": {\\n\",\r\n",
      "      \"  \\\"kernelspec\\\": {\\n\",\r\n",
      "      \"   \\\"display_name\\\": \\\"Python 2\\\",\\n\",\r\n",
      "      \"   \\\"language\\\": \\\"python\\\",\\n\",\r\n",
      "      \"   \\\"name\\\": \\\"python2\\\"\\n\",\r\n",
      "      \"  },\\n\",\r\n",
      "      \"  \\\"language_info\\\": {\\n\",\r\n",
      "      \"   \\\"codemirror_mode\\\": {\\n\",\r\n",
      "      \"    \\\"name\\\": \\\"ipython\\\",\\n\",\r\n",
      "      \"    \\\"version\\\": 2\\n\",\r\n",
      "      \"   },\\n\",\r\n",
      "      \"   \\\"file_extension\\\": \\\".py\\\",\\n\",\r\n",
      "      \"   \\\"mimetype\\\": \\\"text/x-python\\\",\\n\",\r\n",
      "      \"   \\\"name\\\": \\\"python\\\",\\n\",\r\n",
      "      \"   \\\"nbconvert_exporter\\\": \\\"python\\\",\\n\",\r\n",
      "      \"   \\\"pygments_lexer\\\": \\\"ipython2\\\",\\n\",\r\n",
      "      \"   \\\"version\\\": \\\"2.7.10\\\"\\n\",\r\n",
      "      \"  }\\n\",\r\n",
      "      \" },\\n\",\r\n",
      "      \" \\\"nbformat\\\": 4,\\n\",\r\n",
      "      \" \\\"nbformat_minor\\\": 0\\n\",\r\n",
      "      \"}\\n\"\r\n",
      "     ]\r\n",
      "    }\r\n",
      "   ],\r\n",
      "   \"source\": [\r\n",
      "    \"!cat 01-myfile.ipynb\"\r\n",
      "   ]\r\n",
      "  },\r\n",
      "  {\r\n",
      "   \"cell_type\": \"code\",\r\n",
      "   \"execution_count\": 11,\r\n",
      "   \"metadata\": {\r\n",
      "    \"collapsed\": false\r\n",
      "   },\r\n",
      "   \"outputs\": [\r\n",
      "    {\r\n",
      "     \"name\": \"stdout\",\r\n",
      "     \"output_type\": \"stream\",\r\n",
      "     \"text\": [\r\n",
      "      \"01-myfile.ipynb\\n\"\r\n",
      "     ]\r\n",
      "    }\r\n",
      "   ],\r\n",
      "   \"source\": [\r\n",
      "    \"!ls\"\r\n",
      "   ]\r\n",
      "  },\r\n",
      "  {\r\n",
      "   \"cell_type\": \"code\",\r\n",
      "   \"execution_count\": 1,\r\n",
      "   \"metadata\": {\r\n",
      "    \"collapsed\": false\r\n",
      "   },\r\n",
      "   \"outputs\": [\r\n",
      "    {\r\n",
      "     \"name\": \"stdout\",\r\n",
      "     \"output_type\": \"stream\",\r\n",
      "     \"text\": [\r\n",
      "      \"{\\n\",\r\n",
      "      \" \\\"cells\\\": [\\n\",\r\n",
      "      \"  {\\n\",\r\n",
      "      \"   \\\"cell_type\\\": \\\"markdown\\\",\\n\",\r\n",
      "      \"   \\\"metadata\\\": {},\\n\",\r\n",
      "      \"   \\\"source\\\": [\\n\",\r\n",
      "      \"    \\\"# This is my favorite notebook\\\"\\n\",\r\n",
      "      \"   ]\\n\",\r\n",
      "      \"  },\\n\",\r\n",
      "      \"  {\\n\"\r\n",
      "     ]\r\n",
      "    }\r\n",
      "   ],\r\n",
      "   \"source\": [\r\n",
      "    \"!head 01-myfile.ipynb\"\r\n",
      "   ]\r\n",
      "  },\r\n",
      "  {\r\n",
      "   \"cell_type\": \"code\",\r\n",
      "   \"execution_count\": 2,\r\n",
      "   \"metadata\": {\r\n",
      "    \"collapsed\": false\r\n",
      "   },\r\n",
      "   \"outputs\": [\r\n",
      "    {\r\n",
      "     \"name\": \"stdout\",\r\n",
      "     \"output_type\": \"stream\",\r\n",
      "     \"text\": [\r\n",
      "      \"01-myfile.ipynb\\n\"\r\n",
      "     ]\r\n",
      "    }\r\n",
      "   ],\r\n",
      "   \"source\": [\r\n",
      "    \"!ls\"\r\n",
      "   ]\r\n",
      "  },\r\n",
      "  {\r\n",
      "   \"cell_type\": \"code\",\r\n",
      "   \"execution_count\": null,\r\n",
      "   \"metadata\": {\r\n",
      "    \"collapsed\": true\r\n",
      "   },\r\n",
      "   \"outputs\": [],\r\n",
      "   \"source\": []\r\n",
      "  }\r\n",
      " ],\r\n",
      " \"metadata\": {\r\n",
      "  \"kernelspec\": {\r\n",
      "   \"display_name\": \"Python 3\",\r\n",
      "   \"language\": \"python\",\r\n",
      "   \"name\": \"python3\"\r\n",
      "  },\r\n",
      "  \"language_info\": {\r\n",
      "   \"codemirror_mode\": {\r\n",
      "    \"name\": \"ipython\",\r\n",
      "    \"version\": 3\r\n",
      "   },\r\n",
      "   \"file_extension\": \".py\",\r\n",
      "   \"mimetype\": \"text/x-python\",\r\n",
      "   \"name\": \"python\",\r\n",
      "   \"nbconvert_exporter\": \"python\",\r\n",
      "   \"pygments_lexer\": \"ipython3\",\r\n",
      "   \"version\": \"3.5.0\"\r\n",
      "  }\r\n",
      " },\r\n",
      " \"nbformat\": 4,\r\n",
      " \"nbformat_minor\": 0\r\n",
      "}\r\n"
     ]
    }
   ],
   "source": [
    "!cat 01-myfile.ipynb"
   ]
  },
  {
   "cell_type": "code",
   "execution_count": 11,
   "metadata": {
    "collapsed": false
   },
   "outputs": [
    {
     "name": "stdout",
     "output_type": "stream",
     "text": [
      "01-myfile.ipynb\n"
     ]
    }
   ],
   "source": [
    "!ls"
   ]
  },
  {
   "cell_type": "code",
   "execution_count": 12,
   "metadata": {
    "collapsed": false
   },
   "outputs": [
    {
     "name": "stdout",
     "output_type": "stream",
     "text": [
      "{\r\n",
      " \"cells\": [\r\n",
      "  {\r\n",
      "   \"cell_type\": \"markdown\",\r\n",
      "   \"metadata\": {},\r\n",
      "   \"source\": [\r\n",
      "    \"# This is my favorite notebook\"\r\n",
      "   ]\r\n",
      "  },\r\n",
      "  {\r\n"
     ]
    }
   ],
   "source": [
    "# despliega las primeras 5 lineas del archivo\n",
    "!head 01-myfile.ipynb"
   ]
  },
  {
   "cell_type": "code",
   "execution_count": 2,
   "metadata": {
    "collapsed": false
   },
   "outputs": [
    {
     "name": "stdout",
     "output_type": "stream",
     "text": [
      "01-myfile.ipynb\n"
     ]
    }
   ],
   "source": [
    "!ls"
   ]
  },
  {
   "cell_type": "code",
   "execution_count": null,
   "metadata": {
    "collapsed": true
   },
   "outputs": [],
   "source": []
  }
 ],
 "metadata": {
  "kernelspec": {
   "display_name": "Python 3",
   "language": "python",
   "name": "python3"
  },
  "language_info": {
   "codemirror_mode": {
    "name": "ipython",
    "version": 3
   },
   "file_extension": ".py",
   "mimetype": "text/x-python",
   "name": "python",
   "nbconvert_exporter": "python",
   "pygments_lexer": "ipython3",
   "version": "3.5.0"
  }
 },
 "nbformat": 4,
 "nbformat_minor": 0
}
