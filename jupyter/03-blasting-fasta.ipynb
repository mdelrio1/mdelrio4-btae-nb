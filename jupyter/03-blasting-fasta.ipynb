{
 "cells": [
  {
   "cell_type": "markdown",
   "metadata": {},
   "source": [
    "# Easy way to download a file"
   ]
  },
  {
   "cell_type": "markdown",
   "metadata": {},
   "source": [
    "# location file on te web\n",
    "### http://owl.fish.washington.edu/btea/data/Geoduck-transcriptome-v2.fasta"
   ]
  },
  {
   "cell_type": "markdown",
   "metadata": {},
   "source": [
    "# location proteome\n",
    "http://owl.fish.washington.edu/btea/data/Geoduck-proteome-v2.fasta"
   ]
  },
  {
   "cell_type": "code",
   "execution_count": 2,
   "metadata": {
    "collapsed": false
   },
   "outputs": [
    {
     "name": "stderr",
     "output_type": "stream",
     "text": [
      "  % Total    % Received % Xferd  Average Speed   Time    Time     Time  Current\n",
      "                                 Dload  Upload   Total   Spent    Left  Speed\n",
      "\n",
      "  0     0    0     0    0     0      0      0 --:--:-- --:--:-- --:--:--     0\n",
      "  0     0    0     0    0     0      0      0 --:--:-- --:--:-- --:--:--     0\n",
      "  8 17.4M    8 1532k    0     0  1420k      0  0:00:12  0:00:01  0:00:11 1420k\n",
      " 19 17.4M   19 3558k    0     0  1711k      0  0:00:10  0:00:02  0:00:08 1711k\n",
      " 31 17.4M   31 5643k    0     0  1832k      0  0:00:09  0:00:03  0:00:06 1832k\n",
      " 43 17.4M   43 7728k    0     0  1894k      0  0:00:09  0:00:04  0:00:05 1894k\n",
      " 54 17.4M   54 9803k    0     0  1930k      0  0:00:09  0:00:05  0:00:04 2004k\n",
      " 66 17.4M   66 11.6M    0     0  1955k      0  0:00:09  0:00:06  0:00:03 2070k\n",
      " 78 17.4M   78 13.6M    0     0  1971k      0  0:00:09  0:00:07  0:00:02 2080k\n",
      " 89 17.4M   89 15.6M    0     0  1983k      0  0:00:09  0:00:08  0:00:01 2076k\n",
      "100 17.4M  100 17.4M    0     0  1993k      0  0:00:08  0:00:08 --:--:-- 2076k\n"
     ]
    }
   ],
   "source": [
    "# se va a descargar el archivo desde la pagina de internet y se colocara en el directorio parental/data\n",
    "!curl http://owl.fish.washington.edu/btea/data/Geoduck-proteome-v2.fasta -o ../data/Geoduck-proteome-v2.fasta"
   ]
  },
  {
   "cell_type": "markdown",
   "metadata": {},
   "source": [
    "# curl es para descargar un archivo desde la red\n",
    "el \"!\" es para que lo haga desde el sistema operativo, igual que ls, pwdir, mkdir, etc"
   ]
  },
  {
   "cell_type": "code",
   "execution_count": 2,
   "metadata": {
    "collapsed": false
   },
   "outputs": [
    {
     "name": "stdout",
     "output_type": "stream",
     "text": [
      "/bin/sh: blastn: command not found\r\n"
     ]
    }
   ],
   "source": [
    "!blastn --help"
   ]
  },
  {
   "cell_type": "code",
   "execution_count": 4,
   "metadata": {
    "collapsed": false
   },
   "outputs": [
    {
     "name": "stderr",
     "output_type": "stream",
     "text": [
      "USAGE\n",
      "  blastp [-h] [-help] [-import_search_strategy filename]\n",
      "    [-export_search_strategy filename] [-task task_name] [-db database_name]\n",
      "    [-dbsize num_letters] [-gilist filename] [-seqidlist filename]\n",
      "    [-negative_gilist filename] [-entrez_query entrez_query]\n",
      "    [-db_soft_mask filtering_algorithm] [-db_hard_mask filtering_algorithm]\n",
      "    [-subject subject_input_file] [-subject_loc range] [-query input_file]\n",
      "    [-out output_file] [-evalue evalue] [-word_size int_value]\n",
      "    [-gapopen open_penalty] [-gapextend extend_penalty]\n",
      "    [-qcov_hsp_perc float_value] [-max_hsps int_value]\n",
      "    [-xdrop_ungap float_value] [-xdrop_gap float_value]\n",
      "    [-xdrop_gap_final float_value] [-searchsp int_value]\n",
      "    [-sum_stats bool_value] [-seg SEG_options] [-soft_masking soft_masking]\n",
      "    [-matrix matrix_name] [-threshold float_value] [-culling_limit int_value]\n",
      "    [-best_hit_overhang float_value] [-best_hit_score_edge float_value]\n",
      "    [-window_size int_value] [-lcase_masking] [-query_loc range]\n",
      "    [-parse_deflines] [-outfmt format] [-show_gis]\n",
      "    [-num_descriptions int_value] [-num_alignments int_value]\n",
      "    [-line_length line_length] [-html] [-max_target_seqs num_sequences]\n",
      "    [-num_threads int_value] [-ungapped] [-remote] [-comp_based_stats compo]\n",
      "    [-use_sw_tback] [-version]\n",
      "\n",
      "DESCRIPTION\n",
      "   Protein-Protein BLAST 2.2.31+\n",
      "\n",
      "Use '-help' to print detailed descriptions of command line arguments\n",
      "========================================================================\n",
      "\n",
      "Error: Unknown argument: \"-help\"\n"
     ]
    }
   ],
   "source": [
    "!blastp --help"
   ]
  },
  {
   "cell_type": "code",
   "execution_count": 4,
   "metadata": {
    "collapsed": false
   },
   "outputs": [
    {
     "name": "stdout",
     "output_type": "stream",
     "text": [
      "Hasinina_apgw_amide_prepropeptide.fasta\r\n"
     ]
    }
   ],
   "source": [
    "!ls ../data/"
   ]
  },
  {
   "cell_type": "code",
   "execution_count": 1,
   "metadata": {
    "collapsed": false
   },
   "outputs": [],
   "source": [
    "#!curl ftp://ftp.uniprot.org/pub/databases/uniprot/current_release/knowledgebase/complete/uniprot_sprot.fasta.gz\\\n",
    "#    -o ../../big-data/uniprot_sprot.fasta.gz"
   ]
  },
  {
   "cell_type": "code",
   "execution_count": 4,
   "metadata": {
    "collapsed": false
   },
   "outputs": [
    {
     "name": "stdout",
     "output_type": "stream",
     "text": [
      "CgigasInterest.fasta\n",
      "uniprot_sprot.fasta\n"
     ]
    }
   ],
   "source": [
    "!ls ../../big-data/blast/db/"
   ]
  },
  {
   "cell_type": "code",
   "execution_count": 7,
   "metadata": {
    "collapsed": false
   },
   "outputs": [],
   "source": [
    "!grep \">\" ../../big-data/blast/db/CgigasInterest.fasta >seq.txt"
   ]
  },
  {
   "cell_type": "code",
   "execution_count": 17,
   "metadata": {
    "collapsed": false
   },
   "outputs": [
    {
     "name": "stderr",
     "output_type": "stream",
     "text": [
      "wc: ../../big-data/blast/db/seq.txt: No such file or directory\n"
     ]
    }
   ],
   "source": [
    "!wc ../../big-data/blast/db/seq.txt"
   ]
  },
  {
   "cell_type": "code",
   "execution_count": 19,
   "metadata": {
    "collapsed": false
   },
   "outputs": [
    {
     "name": "stdout",
     "output_type": "stream",
     "text": [
      "  14  153 1505 seq.txt\n"
     ]
    }
   ],
   "source": [
    "!wc seq.txt"
   ]
  },
  {
   "cell_type": "code",
   "execution_count": 14,
   "metadata": {
    "collapsed": false
   },
   "outputs": [
    {
     "name": "stdout",
     "output_type": "stream",
     "text": [
      "analyses\n",
      "data\n",
      "img\n",
      "jupyter\n",
      "notes\n",
      "README.md\n"
     ]
    }
   ],
   "source": [
    "!ls ../"
   ]
  },
  {
   "cell_type": "code",
   "execution_count": null,
   "metadata": {
    "collapsed": true
   },
   "outputs": [],
   "source": []
  }
 ],
 "metadata": {
  "kernelspec": {
   "display_name": "Python 3",
   "language": "python",
   "name": "python3"
  },
  "language_info": {
   "codemirror_mode": {
    "name": "ipython",
    "version": 3
   },
   "file_extension": ".py",
   "mimetype": "text/x-python",
   "name": "python",
   "nbconvert_exporter": "python",
   "pygments_lexer": "ipython3",
   "version": "3.4.4"
  }
 },
 "nbformat": 4,
 "nbformat_minor": 0
}
