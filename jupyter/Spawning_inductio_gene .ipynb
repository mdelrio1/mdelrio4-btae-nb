{
 "cells": [
  {
   "cell_type": "markdown",
   "metadata": {},
   "source": [
    "#Spawning induction gene\n"
   ]
  },
  {
   "cell_type": "markdown",
   "metadata": {},
   "source": [
    "ACCESSION   JN606061\n",
    "York,P.S., Cummins,S.F., Degnan,S.M., Woodcroft,B.J. and Degnan,B.M. (Unpublished) Neuropeptide expression levels correlate with ovulation and spawning in Haliotis asinina. http://www.ncbi.nlm.nih.gov/nuccore/393713349"
   ]
  },
  {
   "cell_type": "code",
   "execution_count": 3,
   "metadata": {
    "collapsed": false
   },
   "outputs": [
    {
     "name": "stdout",
     "output_type": "stream",
     "text": [
      "Hasinina_apgw_amide_prepropeptide.fasta\n"
     ]
    }
   ],
   "source": [
    "!ls ../data/"
   ]
  },
  {
   "cell_type": "code",
   "execution_count": 4,
   "metadata": {
    "collapsed": false,
    "scrolled": true
   },
   "outputs": [
    {
     "name": "stdout",
     "output_type": "stream",
     "text": [
      ">gi|393713349|gb|JN606061.1| Haliotis asinina APGWamide prepropeptide mRNA, complete cds\n",
      "GATCCCTCCCTCTCCAGTGGGGCTTTTTCTTTAAAACCACGATGTCTTCTTTCATAAATTCGCTCACACT\n",
      "GGGAGTTGTTGTGGTTTTAAGTGTCCTCAGTTGTAGTTTGGGAGAAGATCAAGTTGCCAGTGTAACGGGT\n",
      "GACAAAGAAAAATCGGACTTTTCTCAAAGGACACTTGACTCTGTACATGTTTTGAAAAAAAGGGCCCCAG\n",
      "GCTGGGGCAAGCGGTCGCTGGATGAGGATGTAGACAGTGACGACGATATGTCTTATGACAGTGAGTCCCC\n",
      "AGAGGACATTTTATCAGGTGCTGATCTTTCCAAACGCGCGCCCGGTTGGGGCAAGCGTACCTTAGATATT\n",
      "CTAGAAGATTACACCAAACGAGCACCCGGCTGGGGTAAGAGGGACTCTCTAGATGTTAAACGTGCACCTG\n",
      "GATGGGGAAAACGCGATATCGATATGGACAAACGTGCACCTGGATGGGGCAAACGCGCACCTGGGTGGGG\n",
      "CAAACGTGCACCTGGCTGGGGAAAACGGGCACCTGGCTGGGGAAAGCGTGCACCTGGTTGGGGCAAAAGA\n",
      "GCACCTGGATGGGGCAAACGCTCTGACACATCATGTGCTGGAATCGACGAGGAGGTTGACTATTACATAT\n"
     ]
    }
   ],
   "source": [
    "!head ../data/Hasinina_apgw_amide_prepropeptide.fasta"
   ]
  },
  {
   "cell_type": "code",
   "execution_count": 3,
   "metadata": {
    "collapsed": true
   },
   "outputs": [],
   "source": [
    "!blastx \\\n",
    "-outfmt 6 \\\n",
    "-max_target_seqs 1 \\\n",
    "-evalue 1E-20 \\\n",
    "-max_hsps 20 \\\n",
    "-query ../data/Hasinina_apgw_amide_prepropeptide.fasta \\\n",
    "-db ../../big-data/blast/db/uniprot_sprot \\\n",
    "-out ../../big-data/blast/out/Hasinina_apgw_amide_prepropeptide.out\n"
   ]
  },
  {
   "cell_type": "code",
   "execution_count": 4,
   "metadata": {
    "collapsed": false
   },
   "outputs": [
    {
     "name": "stdout",
     "output_type": "stream",
     "text": [
      "1 ../../big-data/blast/out/Hasinina_apgw_amide_prepropeptide.out\n"
     ]
    }
   ],
   "source": [
    "!wc -l ../../big-data/blast/out/Hasinina_apgw_amide_prepropeptide.out"
   ]
  },
  {
   "cell_type": "code",
   "execution_count": 5,
   "metadata": {
    "collapsed": false
   },
   "outputs": [
    {
     "name": "stdout",
     "output_type": "stream",
     "text": [
      "gi|393713349|gb|JN606061.1|\tsp|Q10998|CP1_APLCA\t53.65\t192\t62\t6\t162\t707\t35\t209\t2e-046\t162\n"
     ]
    }
   ],
   "source": [
    "!head ../../big-data/blast/out/Hasinina_apgw_amide_prepropeptide.out"
   ]
  },
  {
   "cell_type": "code",
   "execution_count": 6,
   "metadata": {
    "collapsed": false
   },
   "outputs": [
    {
     "name": "stdout",
     "output_type": "stream",
     "text": [
      "1 ../../big-data/blast/out/Hasinina_apgw_amide_prepropeptide.out\n"
     ]
    }
   ],
   "source": [
    "!wc -l ../../big-data/blast/out/Hasinina_apgw_amide_prepropeptide.out"
   ]
  },
  {
   "cell_type": "code",
   "execution_count": 7,
   "metadata": {
    "collapsed": true
   },
   "outputs": [],
   "source": [
    "!blastx \\\n",
    "-outfmt 6 \\\n",
    "-max_target_seqs 20 \\\n",
    "-evalue 1E-20 \\\n",
    "-query ../data/Hasinina_apgw_amide_prepropeptide.fasta \\\n",
    "-db ../../big-data/blast/db/uniprot_sprot \\\n",
    "-out ../../big-data/blast/out/Hasinina_apgw_amide_prepropeptide.out"
   ]
  },
  {
   "cell_type": "code",
   "execution_count": 8,
   "metadata": {
    "collapsed": false
   },
   "outputs": [
    {
     "name": "stdout",
     "output_type": "stream",
     "text": [
      "2 ../../big-data/blast/out/Hasinina_apgw_amide_prepropeptide.out\n"
     ]
    }
   ],
   "source": [
    "!wc -l ../../big-data/blast/out/Hasinina_apgw_amide_prepropeptide.out"
   ]
  },
  {
   "cell_type": "code",
   "execution_count": 9,
   "metadata": {
    "collapsed": false
   },
   "outputs": [
    {
     "name": "stdout",
     "output_type": "stream",
     "text": [
      "gi|393713349|gb|JN606061.1|\tsp|Q10998|CP1_APLCA\t53.65\t192\t62\t6\t162\t707\t35\t209\t2e-046\t162\n",
      "gi|393713349|gb|JN606061.1|\tsp|Q25461|ARNP_MYTED\t45.14\t144\t54\t8\t312\t671\t49\t191\t1e-021\t95.1\n"
     ]
    }
   ],
   "source": [
    "!cat ../../big-data/blast/out/Hasinina_apgw_amide_prepropeptide.out"
   ]
  },
  {
   "cell_type": "code",
   "execution_count": null,
   "metadata": {
    "collapsed": true
   },
   "outputs": [],
   "source": []
  }
 ],
 "metadata": {
  "kernelspec": {
   "display_name": "Python 2",
   "language": "python",
   "name": "python2"
  },
  "language_info": {
   "codemirror_mode": {
    "name": "ipython",
    "version": 2
   },
   "file_extension": ".py",
   "mimetype": "text/x-python",
   "name": "python",
   "nbconvert_exporter": "python",
   "pygments_lexer": "ipython2",
   "version": "2.7.10"
  }
 },
 "nbformat": 4,
 "nbformat_minor": 0
}
