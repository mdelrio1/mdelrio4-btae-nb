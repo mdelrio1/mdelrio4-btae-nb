{
 "cells": [
  {
   "cell_type": "code",
   "execution_count": 1,
   "metadata": {
    "collapsed": false
   },
   "outputs": [
    {
     "name": "stdout",
     "output_type": "stream",
     "text": [
      "01-myfile.ipynb\n",
      "Geoduck.ipynb\n"
     ]
    }
   ],
   "source": [
    "!ls"
   ]
  },
  {
   "cell_type": "code",
   "execution_count": 2,
   "metadata": {
    "collapsed": true
   },
   "outputs": [],
   "source": [
    "!cd .."
   ]
  },
  {
   "cell_type": "code",
   "execution_count": 3,
   "metadata": {
    "collapsed": false
   },
   "outputs": [
    {
     "name": "stdout",
     "output_type": "stream",
     "text": [
      " Volume in drive C has no label.\n",
      " Volume Serial Number is A4D8-AE2A\n",
      "\n",
      " Directory of C:\\Users\\curso06\\Desktop\\mdelrio2-btae-nb\\jupyter\n",
      "\n",
      "10/20/2015  05:46 PM    <DIR>          .\n",
      "10/20/2015  05:46 PM    <DIR>          ..\n",
      "10/20/2015  05:46 PM    <DIR>          .ipynb_checkpoints\n",
      "10/20/2015  05:46 PM             7,880 01-myfile.ipynb\n",
      "10/20/2015  05:46 PM                78 Geoduck.ipynb\n",
      "               2 File(s)          7,958 bytes\n",
      "               3 Dir(s)   4,901,896,192 bytes free\n"
     ]
    }
   ],
   "source": [
    "ls"
   ]
  },
  {
   "cell_type": "code",
   "execution_count": 4,
   "metadata": {
    "collapsed": true
   },
   "outputs": [],
   "source": [
    "!cd .."
   ]
  },
  {
   "cell_type": "code",
   "execution_count": 5,
   "metadata": {
    "collapsed": false
   },
   "outputs": [
    {
     "name": "stdout",
     "output_type": "stream",
     "text": [
      "01-myfile.ipynb\n",
      "Geoduck.ipynb\n"
     ]
    }
   ],
   "source": [
    "!ls"
   ]
  },
  {
   "cell_type": "code",
   "execution_count": 6,
   "metadata": {
    "collapsed": true
   },
   "outputs": [],
   "source": [
    "! cd .."
   ]
  },
  {
   "cell_type": "code",
   "execution_count": 7,
   "metadata": {
    "collapsed": false
   },
   "outputs": [
    {
     "name": "stdout",
     "output_type": "stream",
     "text": [
      "01-myfile.ipynb\n",
      "Geoduck.ipynb\n"
     ]
    }
   ],
   "source": [
    "!ls"
   ]
  },
  {
   "cell_type": "code",
   "execution_count": 8,
   "metadata": {
    "collapsed": false
   },
   "outputs": [
    {
     "name": "stdout",
     "output_type": "stream",
     "text": [
      "/c/Users/curso06/Desktop/mdelrio2-btae-nb/jupyter\n"
     ]
    }
   ],
   "source": [
    "!pwd"
   ]
  },
  {
   "cell_type": "code",
   "execution_count": 9,
   "metadata": {
    "collapsed": true
   },
   "outputs": [],
   "source": [
    "!cd .."
   ]
  },
  {
   "cell_type": "code",
   "execution_count": 10,
   "metadata": {
    "collapsed": false
   },
   "outputs": [
    {
     "name": "stdout",
     "output_type": "stream",
     "text": [
      "/c/Users/curso06/Desktop/mdelrio2-btae-nb/jupyter\n"
     ]
    }
   ],
   "source": [
    "!pwd"
   ]
  },
  {
   "cell_type": "code",
   "execution_count": 11,
   "metadata": {
    "collapsed": false
   },
   "outputs": [
    {
     "name": "stdout",
     "output_type": "stream",
     "text": [
      "analyses\n",
      "data\n",
      "img\n",
      "jupyter\n",
      "notes\n",
      "README.md\n"
     ]
    }
   ],
   "source": [
    "!ls ../"
   ]
  },
  {
   "cell_type": "code",
   "execution_count": 12,
   "metadata": {
    "collapsed": false
   },
   "outputs": [
    {
     "name": "stdout",
     "output_type": "stream",
     "text": [
      "Geoduck-transcriptome-v2.fasta\n"
     ]
    }
   ],
   "source": [
    "!ls ../data/"
   ]
  },
  {
   "cell_type": "code",
   "execution_count": 13,
   "metadata": {
    "collapsed": false
   },
   "outputs": [
    {
     "name": "stdout",
     "output_type": "stream",
     "text": [
      "Geoduck-transcriptome-v2.fasta\n"
     ]
    }
   ],
   "source": [
    "!ls ../data/"
   ]
  },
  {
   "cell_type": "code",
   "execution_count": 14,
   "metadata": {
    "collapsed": false
   },
   "outputs": [
    {
     "name": "stdout",
     "output_type": "stream",
     "text": [
      ">comp7_c0_seq1 len=210 path=[5082:0-45 293:46-209]\n",
      "TTAACCAAGGTGTGACGCCGACGCAAGGGTGAGTAGAATAGCTCTGTTTATTATCCGAAT\n",
      "AGTCGAGCTAAAAACACAAAGAATAAAGGTTTAACAGTTCTATCTGAAATATATATTTGG\n",
      "ATATCTATTGGTAAGGATACGTTTTATATTAAAAACAAACAATTTATAAAGCGCTCTCGC\n",
      "ACCTTGTTTTTGCATTATGAGCATATACAT\n",
      ">comp30_c0_seq1 len=201 path=[6331:0-200]\n",
      "AAGAAAATTGATTTGAAATTGACTCTGCTTGAATAGAAAAAAATGTTTTGTTCTTTTTTT\n",
      "CGAAGTGTAAATTGTAAATTACTTTATTAAAAAATTCATAGTTTCCGGGCAAGTTATTTT\n",
      "TAATATATTGTAAATGTTGTCATTCAGAGGTTTGTTACGAATATATTGTTTGACAGACAT\n",
      "GCTACTGTTGTACTACTATTG\n"
     ]
    }
   ],
   "source": [
    "!head ../data/Geoduck-transcriptome-v2.fasta"
   ]
  },
  {
   "cell_type": "code",
   "execution_count": 15,
   "metadata": {
    "collapsed": false,
    "scrolled": true
   },
   "outputs": [
    {
     "name": "stdout",
     "output_type": "stream",
     "text": [
      "  1926166   3338133 131145571 ../data/Geoduck-transcriptome-v2.fasta\n"
     ]
    }
   ],
   "source": [
    "!wc  ../data/Geoduck-transcriptome-v2.fasta"
   ]
  },
  {
   "cell_type": "code",
   "execution_count": 16,
   "metadata": {
    "collapsed": false
   },
   "outputs": [
    {
     "name": "stdout",
     "output_type": "stream",
     "text": [
      "Usage: wc [OPTION]... [FILE]...\n",
      "  or:  wc [OPTION]... --files0-from=F\n",
      "Print newline, word, and byte counts for each FILE, and a total line if\n",
      "more than one FILE is specified.  A word is a non-zero-length sequence of\n",
      "characters delimited by white space.\n",
      "\n",
      "With no FILE, or when FILE is -, read standard input.\n",
      "\n",
      "The options below may be used to select which counts are printed, always in\n",
      "the following order: newline, word, character, byte, maximum line length.\n",
      "  -c, --bytes            print the byte counts\n",
      "  -m, --chars            print the character counts\n",
      "  -l, --lines            print the newline counts\n",
      "      --files0-from=F    read input from the files specified by\n",
      "                           NUL-terminated names in file F;\n",
      "                           If F is - then read names from standard input\n",
      "  -L, --max-line-length  print the maximum display width\n",
      "  -w, --words            print the word counts\n",
      "      --help     display this help and exit\n",
      "      --version  output version information and exit\n",
      "\n",
      "GNU coreutils online help: <http://www.gnu.org/software/coreutils/>\n",
      "Full documentation at: <http://www.gnu.org/software/coreutils/wc>\n",
      "or available locally via: info '(coreutils) wc invocation'\n"
     ]
    }
   ],
   "source": [
    "!wc --help"
   ]
  },
  {
   "cell_type": "code",
   "execution_count": 17,
   "metadata": {
    "collapsed": false
   },
   "outputs": [
    {
     "name": "stdout",
     "output_type": "stream",
     "text": [
      "154407\n"
     ]
    }
   ],
   "source": [
    "!grep  -c \">\" ../data/Geoduck-transcriptome-v2.fasta"
   ]
  },
  {
   "cell_type": "code",
   "execution_count": 18,
   "metadata": {
    "collapsed": false
   },
   "outputs": [
    {
     "name": "stdout",
     "output_type": "stream",
     "text": [
      ">comp30_c0_seq1 len=201 path=[6331:0-200]\n",
      ">comp35_c0_seq1 len=209 path=[12565:0-208]\n",
      ">comp36_c0_seq1 len=202 path=[13423:0-27 13870:28-114 13870:115-201]\n",
      ">comp49_c0_seq1 len=263 path=[18312:0-262]\n",
      ">comp59_c0_seq1 len=359 path=[23287:0-358]\n",
      ">comp60_c0_seq1 len=319 path=[20887:0-318]\n",
      ">comp65_c0_seq1 len=275 path=[24468:0-274]\n",
      ">comp66_c0_seq1 len=311 path=[28993:0-310]\n",
      ">comp69_c0_seq1 len=301 path=[25164:0-121 29888:122-300]\n",
      ">comp7_c0_seq1 len=210 path=[5082:0-45 293:46-209]\n"
     ]
    },
    {
     "name": "stderr",
     "output_type": "stream",
     "text": [
      "grep: write error\n"
     ]
    }
   ],
   "source": [
    "!grep \">\" ../data/Geoduck-transcriptome-v2.fasta | head | sort"
   ]
  },
  {
   "cell_type": "code",
   "execution_count": 19,
   "metadata": {
    "collapsed": false
   },
   "outputs": [
    {
     "name": "stdout",
     "output_type": "stream",
     "text": [
      ">comp100000_c0_seq1 len=453 path=[49752591:0-102 49754206:103-337 49759685:338-376 49758461:377-452]\n",
      ">comp100001_c1_seq1 len=493 path=[49753371:0-312 49758279:313-318 49758375:319-492]\n",
      ">comp100001_c2_seq1 len=558 path=[49769228:0-214 49772624:215-216 49772656:217-557]\n",
      ">comp100002_c0_seq1 len=208 path=[49754240:0-19 49746543:20-113 49748019:114-207]\n",
      ">comp100004_c1_seq1 len=276 path=[49756251:0-84 49749267:85-275]\n",
      ">comp100007_c0_seq1 len=734 path=[49771251:0-97 49760037:98-733]\n",
      ">comp100010_c0_seq1 len=246 path=[49755835:0-67 49756900:68-102 49766151:103-163 49763203:164-183 49766157:184-245]\n",
      ">comp100011_c0_seq1 len=315 path=[49754973:0-314]\n",
      ">comp100012_c0_seq1 len=218 path=[49759686:0-131 49761759:132-149 49762039:150-217]\n",
      ">comp100014_c0_seq1 len=389 path=[49769846:0-106 49761841:107-388]\n"
     ]
    },
    {
     "name": "stderr",
     "output_type": "stream",
     "text": [
      "sort: write failed: standard output\n",
      "sort: write error\n"
     ]
    }
   ],
   "source": [
    "!grep \">\" ../data/Geoduck-transcriptome-v2.fasta | sort |head"
   ]
  },
  {
   "cell_type": "code",
   "execution_count": 20,
   "metadata": {
    "collapsed": false
   },
   "outputs": [
    {
     "name": "stdout",
     "output_type": "stream",
     "text": [
      "Usage: grep [OPTION]... PATTERN [FILE]...\n",
      "Search for PATTERN in each FILE or standard input.\n",
      "PATTERN is, by default, a basic regular expression (BRE).\n",
      "Example: grep -i 'hello world' menu.h main.c\n",
      "\n",
      "Regexp selection and interpretation:\n",
      "  -E, --extended-regexp     PATTERN is an extended regular expression (ERE)\n",
      "  -F, --fixed-strings       PATTERN is a set of newline-separated strings\n",
      "  -G, --basic-regexp        PATTERN is a basic regular expression (BRE)\n",
      "  -P, --perl-regexp         PATTERN is a Perl regular expression\n",
      "  -e, --regexp=PATTERN      use PATTERN for matching\n",
      "  -f, --file=FILE           obtain PATTERN from FILE\n",
      "  -i, --ignore-case         ignore case distinctions\n",
      "  -w, --word-regexp         force PATTERN to match only whole words\n",
      "  -x, --line-regexp         force PATTERN to match only whole lines\n",
      "  -z, --null-data           a data line ends in 0 byte, not newline\n",
      "\n",
      "Miscellaneous:\n",
      "  -s, --no-messages         suppress error messages\n",
      "  -v, --invert-match        select non-matching lines\n",
      "  -V, --version             display version information and exit\n",
      "      --help                display this help text and exit\n",
      "\n",
      "Output control:\n",
      "  -m, --max-count=NUM       stop after NUM matches\n",
      "  -b, --byte-offset         print the byte offset with output lines\n",
      "  -n, --line-number         print line number with output lines\n",
      "      --line-buffered       flush output on every line\n",
      "  -H, --with-filename       print the file name for each match\n",
      "  -h, --no-filename         suppress the file name prefix on output\n",
      "      --label=LABEL         use LABEL as the standard input file name prefix\n",
      "  -o, --only-matching       show only the part of a line matching PATTERN\n",
      "  -q, --quiet, --silent     suppress all normal output\n",
      "      --binary-files=TYPE   assume that binary files are TYPE;\n",
      "                            TYPE is 'binary', 'text', or 'without-match'\n",
      "  -a, --text                equivalent to --binary-files=text\n",
      "  -I                        equivalent to --binary-files=without-match\n",
      "  -d, --directories=ACTION  how to handle directories;\n",
      "                            ACTION is 'read', 'recurse', or 'skip'\n",
      "  -D, --devices=ACTION      how to handle devices, FIFOs and sockets;\n",
      "                            ACTION is 'read' or 'skip'\n",
      "  -r, --recursive           like --directories=recurse\n",
      "  -R, --dereference-recursive  likewise, but follow all symlinks\n",
      "      --include=FILE_PATTERN  search only files that match FILE_PATTERN\n",
      "      --exclude=FILE_PATTERN  skip files and directories matching FILE_PATTERN\n",
      "      --exclude-from=FILE   skip files matching any file pattern from FILE\n",
      "      --exclude-dir=PATTERN  directories that match PATTERN will be skipped.\n",
      "  -L, --files-without-match  print only names of FILEs containing no match\n",
      "  -l, --files-with-matches  print only names of FILEs containing matches\n",
      "  -c, --count               print only a count of matching lines per FILE\n",
      "  -T, --initial-tab         make tabs line up (if needed)\n",
      "  -Z, --null                print 0 byte after FILE name\n",
      "\n",
      "Context control:\n",
      "  -B, --before-context=NUM  print NUM lines of leading context\n",
      "  -A, --after-context=NUM   print NUM lines of trailing context\n",
      "  -C, --context=NUM         print NUM lines of output context\n",
      "  -NUM                      same as --context=NUM\n",
      "      --color[=WHEN],\n",
      "      --colour[=WHEN]       use markers to highlight the matching strings;\n",
      "                            WHEN is 'always', 'never', or 'auto'\n",
      "  -U, --binary              do not strip CR characters at EOL (MSDOS/Windows)\n",
      "  -u, --unix-byte-offsets   report offsets as if CRs were not there\n",
      "                            (MSDOS/Windows)\n",
      "\n",
      "'egrep' means 'grep -E'.  'fgrep' means 'grep -F'.\n",
      "Direct invocation as either 'egrep' or 'fgrep' is deprecated.\n",
      "When FILE is -, read standard input.  With no FILE, read . if a command-line\n",
      "-r is given, - otherwise.  If fewer than two FILEs are given, assume -h.\n",
      "Exit status is 0 if any line is selected, 1 otherwise;\n",
      "if any error occurs and -q is not given, the exit status is 2.\n",
      "\n",
      "Report bugs to: bug-grep@gnu.org\n",
      "GNU grep home page: <http://www.gnu.org/software/grep/>\n",
      "General help using GNU software: <http://www.gnu.org/gethelp/>\n"
     ]
    }
   ],
   "source": [
    "!grep --help"
   ]
  },
  {
   "cell_type": "code",
   "execution_count": 21,
   "metadata": {
    "collapsed": false
   },
   "outputs": [
    {
     "name": "stdout",
     "output_type": "stream",
     "text": [
      ">comp30_c0_seq1 len=201 path=[6331:0-200]\n",
      ">comp35_c0_seq1 len=209 path=[12565:0-208]\n",
      ">comp36_c0_seq1 len=202 path=[13423:0-27 13870:28-114 13870:115-201]\n",
      ">comp49_c0_seq1 len=263 path=[18312:0-262]\n",
      ">comp59_c0_seq1 len=359 path=[23287:0-358]\n",
      ">comp60_c0_seq1 len=319 path=[20887:0-318]\n",
      ">comp65_c0_seq1 len=275 path=[24468:0-274]\n",
      ">comp66_c0_seq1 len=311 path=[28993:0-310]\n",
      ">comp69_c0_seq1 len=301 path=[25164:0-121 29888:122-300]\n",
      ">comp7_c0_seq1 len=210 path=[5082:0-45 293:46-209]\n"
     ]
    },
    {
     "name": "stderr",
     "output_type": "stream",
     "text": [
      "grep: write error\n"
     ]
    }
   ],
   "source": [
    "!grep \">\" ../data/Geoduck-transcriptome-v2.fasta | head |sort"
   ]
  },
  {
   "cell_type": "code",
   "execution_count": 22,
   "metadata": {
    "collapsed": false
   },
   "outputs": [
    {
     "name": "stdout",
     "output_type": "stream",
     "text": [
      "154407\n"
     ]
    }
   ],
   "source": [
    "!grep  -c \">\" ../data/Geoduck-transcriptome-v2.fasta"
   ]
  },
  {
   "cell_type": "code",
   "execution_count": 23,
   "metadata": {
    "collapsed": false
   },
   "outputs": [
    {
     "name": "stdout",
     "output_type": "stream",
     "text": [
      ">comp30_c0_seq1 len=201 path=[6331:0-200]\n",
      ">comp35_c0_seq1 len=209 path=[12565:0-208]\n",
      ">comp36_c0_seq1 len=202 path=[13423:0-27 13870:28-114 13870:115-201]\n",
      ">comp49_c0_seq1 len=263 path=[18312:0-262]\n",
      ">comp59_c0_seq1 len=359 path=[23287:0-358]\n",
      ">comp60_c0_seq1 len=319 path=[20887:0-318]\n",
      ">comp65_c0_seq1 len=275 path=[24468:0-274]\n",
      ">comp66_c0_seq1 len=311 path=[28993:0-310]\n",
      ">comp69_c0_seq1 len=301 path=[25164:0-121 29888:122-300]\n",
      ">comp7_c0_seq1 len=210 path=[5082:0-45 293:46-209]\n"
     ]
    },
    {
     "name": "stderr",
     "output_type": "stream",
     "text": [
      "grep: write error\n"
     ]
    }
   ],
   "source": [
    "!grep \">\" ../data/Geoduck-transcriptome-v2.fasta | head |sort"
   ]
  },
  {
   "cell_type": "code",
   "execution_count": null,
   "metadata": {
    "collapsed": true
   },
   "outputs": [],
   "source": []
  }
 ],
 "metadata": {
  "kernelspec": {
   "display_name": "Python 3",
   "language": "python",
   "name": "python3"
  },
  "language_info": {
   "codemirror_mode": {
    "name": "ipython",
    "version": 3
   },
   "file_extension": ".py",
   "mimetype": "text/x-python",
   "name": "python",
   "nbconvert_exporter": "python",
   "pygments_lexer": "ipython3",
   "version": "3.4.4"
  }
 },
 "nbformat": 4,
 "nbformat_minor": 0
}
