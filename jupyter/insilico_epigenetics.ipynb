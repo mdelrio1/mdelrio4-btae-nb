{
 "cells": [
  {
   "cell_type": "markdown",
   "metadata": {},
   "source": [
    "# Germline DNA Methylation"
   ]
  },
  {
   "cell_type": "code",
   "execution_count": 5,
   "metadata": {
    "collapsed": false
   },
   "outputs": [
    {
     "name": "stdout",
     "output_type": "stream",
     "text": [
      "../../big-data/blast/db/Geoduck-transcriptome-v2.fasta\n"
     ]
    }
   ],
   "source": [
    "!ls ../../big-data/blast/db/Geod*"
   ]
  },
  {
   "cell_type": "code",
   "execution_count": 6,
   "metadata": {
    "collapsed": false
   },
   "outputs": [
    {
     "name": "stdout",
     "output_type": "stream",
     "text": [
      "CgigasQuery.fasta\n",
      "Geo_Female.fa\n",
      "Geo_Male.fa\n",
      "Geoduck-proteome-v2.fasta\n",
      "Geoduck-transcriptome-v2.fasta\n",
      "PanopeaQuery.fasta\n",
      "Piura_v1_CpG-GOslim.csv\n"
     ]
    }
   ],
   "source": [
    "!ls ../../big-data/blast/query/"
   ]
  },
  {
   "cell_type": "code",
   "execution_count": 7,
   "metadata": {
    "collapsed": false
   },
   "outputs": [
    {
     "name": "stdout",
     "output_type": "stream",
     "text": [
      "Column1,Column2,Column1,Column2\n",
      "PiuraChilensis_v1_contig_1,0.427621,,\n",
      "PiuraChilensis_v1_contig_10,0.817866,,\n",
      "PiuraChilensis_v1_contig_100,0.914473,PiuraChilensis_v1_contig_100,death\n",
      "PiuraChilensis_v1_contig_100,0.914473,PiuraChilensis_v1_contig_100,other biological processes\n",
      "PiuraChilensis_v1_contig_100,0.914473,PiuraChilensis_v1_contig_100,signal transduction\n",
      "PiuraChilensis_v1_contig_100,0.914473,PiuraChilensis_v1_contig_100,stress response\n",
      "PiuraChilensis_v1_contig_100,0.914473,PiuraChilensis_v1_contig_100,transport\n",
      "PiuraChilensis_v1_contig_1000,0.792597,PiuraChilensis_v1_contig_1000,other biological processes\n",
      "PiuraChilensis_v1_contig_1000,0.792597,PiuraChilensis_v1_contig_1000,other metabolic processes\n"
     ]
    }
   ],
   "source": [
    "!head ../../big-data/blast/query/Piura_v1_CpG-GOslim.csv"
   ]
  },
  {
   "cell_type": "code",
   "execution_count": null,
   "metadata": {
    "collapsed": true
   },
   "outputs": [],
   "source": [
    "!perl -e '$count=0; $len=0; while(<>) {s/\\r?\\n//; s/\\t/ /g; if (s/^>//) { if ($. != 1) {print \"\\n\"} s/ |$/\\t/; $count++; $_ .= \"\\t\";} else {s/ //g; $len += length($_)} print $_;} print \"\\n\"; warn \"\\nConverted $count FASTA records in $. lines to tabular format\\nTotal sequence length: $len\\n\\n\";' \\\n",
    "../data/Piura_v1_contigs.fa > ../../big-data/blast/query/Piura_v1_contigs.tab"
   ]
  }
 ],
 "metadata": {
  "kernelspec": {
   "display_name": "Python 2",
   "language": "python",
   "name": "python2"
  },
  "language_info": {
   "codemirror_mode": {
    "name": "ipython",
    "version": 2
   },
   "file_extension": ".py",
   "mimetype": "text/x-python",
   "name": "python",
   "nbconvert_exporter": "python",
   "pygments_lexer": "ipython2",
   "version": "2.7.10"
  }
 },
 "nbformat": 4,
 "nbformat_minor": 0
}
