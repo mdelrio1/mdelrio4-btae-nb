{
 "cells": [
  {
   "cell_type": "markdown",
   "metadata": {},
   "source": [
    "# Germline DNA Methylation"
   ]
  },
  {
   "cell_type": "code",
   "execution_count": 1,
   "metadata": {
    "collapsed": false
   },
   "outputs": [
    {
     "name": "stdout",
     "output_type": "stream",
     "text": [
      "big-data\n",
      "Compartido\n",
      "data\n",
      "desktop.ini\n",
      "GeneMarker_V2.6.4_Demo_Setup.EXE\n",
      "Git Shell.lnk\n",
      "GitHub.appref-ms\n",
      "GitHubLog.txt\n",
      "Google Chrome.lnk\n",
      "IGV 2.3.lnk\n",
      "mdelrio2-btae-nb\n",
      "mdelrio4-btae-nb\n",
      "mdelrio-btea-nb\n",
      "New folder\n",
      "Pedigree Viewer.appref-ms\n",
      "Untitled.ipynb\n"
     ]
    }
   ],
   "source": [
    "!ls ../../big"
   ]
  },
  {
   "cell_type": "code",
   "execution_count": null,
   "metadata": {
    "collapsed": true
   },
   "outputs": [],
   "source": []
  }
 ],
 "metadata": {
  "kernelspec": {
   "display_name": "Python 2",
   "language": "python",
   "name": "python2"
  },
  "language_info": {
   "codemirror_mode": {
    "name": "ipython",
    "version": 2
   },
   "file_extension": ".py",
   "mimetype": "text/x-python",
   "name": "python",
   "nbconvert_exporter": "python",
   "pygments_lexer": "ipython2",
   "version": "2.7.10"
  }
 },
 "nbformat": 4,
 "nbformat_minor": 0
}
